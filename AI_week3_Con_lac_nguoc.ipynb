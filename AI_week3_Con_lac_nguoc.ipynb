{
  "nbformat": 4,
  "nbformat_minor": 0,
  "metadata": {
    "colab": {
      "provenance": [],
      "authorship_tag": "ABX9TyMr1jAeM36UUHkSa+PP7Glo",
      "include_colab_link": true
    },
    "kernelspec": {
      "name": "python3",
      "display_name": "Python 3"
    },
    "language_info": {
      "name": "python"
    }
  },
  "cells": [
    {
      "cell_type": "markdown",
      "metadata": {
        "id": "view-in-github",
        "colab_type": "text"
      },
      "source": [
        "<a href=\"https://colab.research.google.com/github/proteenteen/Artificial-intelligence-AI-/blob/main/AI_week3_Con_lac_nguoc.ipynb\" target=\"_parent\"><img src=\"https://colab.research.google.com/assets/colab-badge.svg\" alt=\"Open In Colab\"/></a>"
      ]
    },
    {
      "cell_type": "code",
      "execution_count": null,
      "metadata": {
        "id": "5xcO0HWuebRB"
      },
      "outputs": [],
      "source": [
        "from networkx.algorithms.bipartite import projection\n",
        "import matplotlib.pyplot as plt\n",
        "from mpl_toolkits.mplot3d import Axes3D\n",
        "import numpy as np\n",
        "import skfuzzy as fuzz\n",
        "from skfuzzy import control as ctrl\n",
        "import math \n",
        "\n",
        "universe = np.linspace(-3.14/2,3.14/2,100)\n",
        "universe1 = np.linspace(-3.14/4,3.14/4,100)\n",
        "universe2 = np.linspace(0,100,100)\n",
        "\n",
        "rad = ctrl.Antecedent(universe,'Angle')\n",
        "rad_s = ctrl.Antecedent(universe1,'Rad/s')\n",
        "Force = ctrl.Consequent(universe2,'Force')\n",
        "\n",
        "names=['LN','N','ZE','P','LP']\n",
        "\n",
        "rad.automf(names=names)\n",
        "rad_s.automf(names=names)\n",
        "Force.automf(names=names)\n",
        "\n",
        "rad.view()\n",
        "rad_s.view()\n",
        "Force.view()\n",
        "\n",
        "rule1=ctrl.Rule(antecedent=((rad['LN']&rad_s['LN'])|(rad['LN']&rad_s['N'])|(rad['ZE']&rad_s['N'])\n",
        "                            |(rad['P']&rad_s['LN'])),consequent=Force['LN'],label='Rule LN')\n",
        "\n",
        "rule2=ctrl.Rule(antecedent=((rad['LN']&rad_s['ZE'])|(rad['LN']&rad_s['P'])|(rad['LP']&rad_s['LN'])\n",
        "                            |(rad['N']&rad_s['N'])|(rad['N']&rad_s['LN'])|(rad['N']&rad_s['ZE'])|(rad['N']&rad_s['P'])),consequent=Force['N'],label='Rule N')\n",
        "\n",
        "rule3=ctrl.Rule(antecedent=((rad['N']&rad_s['LP'])|(rad['ZE']&rad_s['ZE'])),consequent=Force['ZE'],label='Rule ZE')\n",
        "\n",
        "rule4=ctrl.Rule(antecedent=((rad['ZE']&rad_s['P'])|(rad['P']&rad_s['P'])|(rad['LP']&rad_s['LN'])\n",
        "                            |(rad['LP']&rad_s['N'])|(rad['LP']&rad_s['ZE'])),consequent=Force['P'],label='Rule P')\n",
        "\n",
        "rule5=ctrl.Rule(antecedent=((rad['ZE']&rad_s['LP'])|(rad['P']&rad_s['LP'])|(rad['P']&rad_s['LP'])\n",
        "                            |(rad['LP']&rad_s['P'])|(rad['LP']&rad_s['LP'])),consequent=Force['LP'],label='Rule LP')\n",
        "\n",
        "\n",
        "Force_ctrl= ctrl.ControlSystem(rules=[rule1,rule2,rule3,rule4,rule5])\n",
        "sim= ctrl.ControlSystemSimulation(Force_ctrl,flush_after_run=100*100+1)\n",
        "\n",
        "upsampled = np.linspace(0,3.14/2,100)\n",
        "unsampled1 =np.linspace(0,3.14/4,100)\n",
        "x,y = np.meshgrid(upsampled,unsampled1)\n",
        "z = np.zeros_like(x)\n",
        "\n",
        "for i in range(100):\n",
        "  for j in range(100):\n",
        "    sim.input['Angle']=x[i,j]\n",
        "    sim.input ['Rad/s']=y[i,j]\n",
        "    sim.compute()\n",
        "    z[i,j]=sim.output['Force']\n",
        "\n",
        "fig = plt.figure(figsize=(8,8))\n",
        "ax =fig.add_subplot(111,projection='3d')\n",
        "suf = ax.plot_surface(x,y,z,rstride=1,cstride=1,cmap='viridis',linewidth=0.4,antialiased=True)\n",
        "cset = ax.contourf(x,y,z,zdir='z',offset=9,cmap='viridis',anpha=0.5)\n",
        "cset = ax.contourf(x,y,z,zdir='x',offset=11,cmap='viridis',anpha=0.5)\n",
        "cset = ax.contourf(x,y,z,zdir='y',offset=11,cmap='viridis',anpha=0.5)\n",
        "\n",
        "ax.view_init(30,300)"
      ]
    }
  ]
}